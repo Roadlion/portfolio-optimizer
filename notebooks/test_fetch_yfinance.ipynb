{
 "cells": [
  {
   "cell_type": "code",
   "execution_count": 1,
   "id": "1e78ead2",
   "metadata": {},
   "outputs": [],
   "source": [
    "import sys\n",
    "from pathlib import Path\n",
    "\n",
    "# Find project root and add 'src' folder to sys.path\n",
    "project_root = Path.cwd().parents[0]  # goes from /notebooks/ to project root\n",
    "src_path = project_root / 'src'\n",
    "sys.path.append(str(src_path))"
   ]
  },
  {
   "cell_type": "code",
   "execution_count": 7,
   "id": "ceee3309",
   "metadata": {},
   "outputs": [
    {
     "name": "stderr",
     "output_type": "stream",
     "text": [
      "[*********************100%***********************]  3 of 3 completed"
     ]
    },
    {
     "name": "stdout",
     "output_type": "stream",
     "text": [
      "<bound method DataFrame.info of Ticker            AAPL        NVDA        TSLA\n",
      "Date                                          \n",
      "2024-01-02  184.290421   48.149918  248.419998\n",
      "2024-01-03  182.910507   47.551144  238.449997\n",
      "2024-01-04  180.587524   47.979984  237.929993\n",
      "2024-01-05  179.862854   49.078568  237.490005\n",
      "2024-01-08  184.210999   52.233379  240.449997\n",
      "...                ...         ...         ...\n",
      "2024-12-24  257.578674  140.207108  462.279999\n",
      "2024-12-26  258.396667  139.917130  454.130005\n",
      "2024-12-27  254.974930  136.997391  431.660004\n",
      "2024-12-30  251.593094  137.477356  417.410004\n",
      "2024-12-31  249.817383  134.277649  403.839996\n",
      "\n",
      "[252 rows x 3 columns]>\n"
     ]
    },
    {
     "name": "stderr",
     "output_type": "stream",
     "text": [
      "\n"
     ]
    }
   ],
   "source": [
    "from data_fetching.fetch_yfinance import get_price_data\n",
    "\n",
    "tickers = ['AAPL', 'TSLA', 'NVDA']\n",
    "start_date = '2024-01-01'\n",
    "end_date = '2025-01-01'\n",
    "\n",
    "prices = get_price_data(tickers, start_date, end_date)\n",
    "print(prices.info)"
   ]
  }
 ],
 "metadata": {
  "kernelspec": {
   "display_name": "Python 3",
   "language": "python",
   "name": "python3"
  },
  "language_info": {
   "codemirror_mode": {
    "name": "ipython",
    "version": 3
   },
   "file_extension": ".py",
   "mimetype": "text/x-python",
   "name": "python",
   "nbconvert_exporter": "python",
   "pygments_lexer": "ipython3",
   "version": "3.10.11"
  }
 },
 "nbformat": 4,
 "nbformat_minor": 5
}
